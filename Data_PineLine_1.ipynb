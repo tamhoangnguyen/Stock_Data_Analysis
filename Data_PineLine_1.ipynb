{
 "cells": [
  {
   "cell_type": "code",
   "execution_count": 12,
   "id": "a90e8cc7",
   "metadata": {},
   "outputs": [],
   "source": [
    "import pandas as pd\n",
    "import pyodbc as pyo\n",
    "import numpy as np\n",
    "import os"
   ]
  },
  {
   "cell_type": "code",
   "execution_count": 13,
   "id": "3c337af9",
   "metadata": {},
   "outputs": [
    {
     "data": {
      "text/plain": [
       "['SQL Server',\n",
       " 'ODBC Driver 17 for SQL Server',\n",
       " 'SQL Server Native Client 11.0',\n",
       " 'SQL Server Native Client RDA 11.0',\n",
       " 'Microsoft Access Driver (*.mdb, *.accdb)',\n",
       " 'Microsoft Excel Driver (*.xls, *.xlsx, *.xlsm, *.xlsb)',\n",
       " 'Microsoft Access Text Driver (*.txt, *.csv)']"
      ]
     },
     "execution_count": 13,
     "metadata": {},
     "output_type": "execute_result"
    }
   ],
   "source": [
    "pyo.drivers()"
   ]
  },
  {
   "cell_type": "code",
   "execution_count": 14,
   "id": "97e43954",
   "metadata": {},
   "outputs": [],
   "source": [
    "def connect_database():\n",
    "    drivers = 'ODBC Driver 17 for SQL Server'\n",
    "    SeverName = 'DESKTOP-L8OJDR9\\SQLEXPRESS01'\n",
    "    db = 'CHUNGKHOAN'\n",
    "    connection = pyo.connect(driver = drivers, \n",
    "                            host = SeverName ,database = db ,trusted_connection = 'yes')\n",
    "    conn = connection\n",
    "    cur = conn.cursor()\n",
    "    return cur,conn\n",
    "def create_table(cur,conn,query):\n",
    "    cur.execute(query)\n",
    "    conn.commit()\n",
    "def insert_table(cur,conn,query,df1):\n",
    "    for i,row in df1.iterrows():\n",
    "        cur.execute(query,list(row))\n",
    "    conn.commit()"
   ]
  },
  {
   "cell_type": "code",
   "execution_count": 15,
   "id": "baad89ff",
   "metadata": {},
   "outputs": [],
   "source": [
    "cur,conn = connect_database()"
   ]
  },
  {
   "cell_type": "code",
   "execution_count": 16,
   "id": "3d539972",
   "metadata": {},
   "outputs": [],
   "source": [
    "query_create_table = (\"\"\"CREATE TABLE DATA_MAJOR (\n",
    "                            STT int IDENTITY,\n",
    "                            Stock_code varchar(20),\n",
    "                            Name_Company nvarchar(100),\n",
    "                            Industry nvarchar(100),\n",
    "                            Exchange nvarchar(10),\n",
    "                            KL_CPNY_CP float,\n",
    "                            Majority nvarchar(100) \n",
    "                            ) ;\n",
    "                          CREATE TABLE COMPANY (\n",
    "                            idx int NOT NULL,\n",
    "                            Company_Code varchar(20) PRIMARY KEY ,\n",
    "                            Full_Name nvarchar(100),\n",
    "                            Company_ID int,\n",
    "                            Cat_ID int );\n",
    "                           \"\"\")"
   ]
  },
  {
   "cell_type": "code",
   "execution_count": 17,
   "id": "d10fb1d9",
   "metadata": {},
   "outputs": [],
   "source": [
    "query_insert_table_1 = (\"\"\"INSERT INTO DATA_MAJOR (\n",
    "                            Stock_code,\n",
    "                            Name_Company,\n",
    "                            Industry,\n",
    "                            Exchange, \n",
    "                            KL_CPNY_CP,\n",
    "                            Majority ) VALUES (?,?,?,?,?,?)\"\"\")\n",
    "query_insert_table_2 = (\"\"\"INSERT INTO COMPANY ( \n",
    "                                idx, \n",
    "                                Company_Code,\n",
    "                                Full_Name,\n",
    "                                Company_ID,\n",
    "                                Cat_ID ) VALUES (?,?,?,?,?)\"\"\")"
   ]
  },
  {
   "cell_type": "code",
   "execution_count": 18,
   "id": "cb04279a",
   "metadata": {},
   "outputs": [
    {
     "data": {
      "text/html": [
       "<div>\n",
       "<style scoped>\n",
       "    .dataframe tbody tr th:only-of-type {\n",
       "        vertical-align: middle;\n",
       "    }\n",
       "\n",
       "    .dataframe tbody tr th {\n",
       "        vertical-align: top;\n",
       "    }\n",
       "\n",
       "    .dataframe thead th {\n",
       "        text-align: right;\n",
       "    }\n",
       "</style>\n",
       "<table border=\"1\" class=\"dataframe\">\n",
       "  <thead>\n",
       "    <tr style=\"text-align: right;\">\n",
       "      <th></th>\n",
       "      <th>Number</th>\n",
       "      <th>Stock_code</th>\n",
       "      <th>Name_Company</th>\n",
       "      <th>Industry</th>\n",
       "      <th>Exchange</th>\n",
       "      <th>KL_CPNY_(CP)</th>\n",
       "      <th>Majority</th>\n",
       "    </tr>\n",
       "  </thead>\n",
       "  <tbody>\n",
       "    <tr>\n",
       "      <th>0</th>\n",
       "      <td>1</td>\n",
       "      <td>AAT</td>\n",
       "      <td>CTCP Tập Đoàn Tiên Sơn Thanh Hóa</td>\n",
       "      <td>Bán buôn hàng tiêu dùng</td>\n",
       "      <td>HOSE</td>\n",
       "      <td>63.801.489</td>\n",
       "      <td>Bán buôn</td>\n",
       "    </tr>\n",
       "    <tr>\n",
       "      <th>1</th>\n",
       "      <td>2</td>\n",
       "      <td>AAV</td>\n",
       "      <td>CTCP AAV Group</td>\n",
       "      <td>Bán buôn hàng tiêu dùng</td>\n",
       "      <td>HNX</td>\n",
       "      <td>68.987.661</td>\n",
       "      <td>Bán buôn</td>\n",
       "    </tr>\n",
       "    <tr>\n",
       "      <th>2</th>\n",
       "      <td>3</td>\n",
       "      <td>ABR</td>\n",
       "      <td>CTCP Đầu tư Nhãn hiệu Việt</td>\n",
       "      <td>Bán buôn hàng tiêu dùng</td>\n",
       "      <td>HOSE</td>\n",
       "      <td>20.000.000</td>\n",
       "      <td>Bán buôn</td>\n",
       "    </tr>\n",
       "    <tr>\n",
       "      <th>3</th>\n",
       "      <td>4</td>\n",
       "      <td>ABS</td>\n",
       "      <td>CTCP Dịch vụ Nông nghiệp Bình Thuận</td>\n",
       "      <td>Bán buôn hàng tiêu dùng</td>\n",
       "      <td>HOSE</td>\n",
       "      <td>80.000.000</td>\n",
       "      <td>Bán buôn</td>\n",
       "    </tr>\n",
       "    <tr>\n",
       "      <th>4</th>\n",
       "      <td>5</td>\n",
       "      <td>AMP</td>\n",
       "      <td>CTCP Armephaco</td>\n",
       "      <td>Bán buôn hàng lâu bền</td>\n",
       "      <td>UpCom</td>\n",
       "      <td>13.000.000</td>\n",
       "      <td>Bán buôn</td>\n",
       "    </tr>\n",
       "  </tbody>\n",
       "</table>\n",
       "</div>"
      ],
      "text/plain": [
       "   Number Stock_code                         Name_Company  \\\n",
       "0       1        AAT     CTCP Tập Đoàn Tiên Sơn Thanh Hóa   \n",
       "1       2        AAV                       CTCP AAV Group   \n",
       "2       3        ABR           CTCP Đầu tư Nhãn hiệu Việt   \n",
       "3       4        ABS  CTCP Dịch vụ Nông nghiệp Bình Thuận   \n",
       "4       5        AMP                       CTCP Armephaco   \n",
       "\n",
       "                  Industry Exchange KL_CPNY_(CP)  Majority  \n",
       "0  Bán buôn hàng tiêu dùng     HOSE   63.801.489  Bán buôn  \n",
       "1  Bán buôn hàng tiêu dùng      HNX   68.987.661  Bán buôn  \n",
       "2  Bán buôn hàng tiêu dùng     HOSE   20.000.000  Bán buôn  \n",
       "3  Bán buôn hàng tiêu dùng     HOSE   80.000.000  Bán buôn  \n",
       "4    Bán buôn hàng lâu bền    UpCom   13.000.000  Bán buôn  "
      ]
     },
     "execution_count": 18,
     "metadata": {},
     "output_type": "execute_result"
    }
   ],
   "source": [
    "df1 = pd.read_csv('D:\\chungkhoan\\data.csv')\n",
    "df1.head(5)"
   ]
  },
  {
   "cell_type": "code",
   "execution_count": 19,
   "id": "ecab89b0",
   "metadata": {},
   "outputs": [],
   "source": [
    "df1['KL_CPNY_(CP)'] = df1['KL_CPNY_(CP)'].apply(lambda x: x.replace('.',''))\n",
    "df1['KL_CPNY_(CP)'] = df1['KL_CPNY_(CP)'].apply(lambda x: int(x))"
   ]
  },
  {
   "cell_type": "code",
   "execution_count": 20,
   "id": "23098fe3",
   "metadata": {},
   "outputs": [
    {
     "data": {
      "text/plain": [
       "Index(['Number', 'Stock_code', 'Name_Company', 'Industry', 'Exchange',\n",
       "       'KL_CPNY_(CP)', 'Majority'],\n",
       "      dtype='object')"
      ]
     },
     "execution_count": 20,
     "metadata": {},
     "output_type": "execute_result"
    }
   ],
   "source": [
    "df1.columns"
   ]
  },
  {
   "cell_type": "code",
   "execution_count": 21,
   "id": "cf4bdda4",
   "metadata": {},
   "outputs": [
    {
     "data": {
      "text/html": [
       "<div>\n",
       "<style scoped>\n",
       "    .dataframe tbody tr th:only-of-type {\n",
       "        vertical-align: middle;\n",
       "    }\n",
       "\n",
       "    .dataframe tbody tr th {\n",
       "        vertical-align: top;\n",
       "    }\n",
       "\n",
       "    .dataframe thead th {\n",
       "        text-align: right;\n",
       "    }\n",
       "</style>\n",
       "<table border=\"1\" class=\"dataframe\">\n",
       "  <thead>\n",
       "    <tr style=\"text-align: right;\">\n",
       "      <th></th>\n",
       "      <th>Stock_code</th>\n",
       "      <th>Name_Company</th>\n",
       "      <th>Industry</th>\n",
       "      <th>Exchange</th>\n",
       "      <th>KL_CPNY_(CP)</th>\n",
       "      <th>Majority</th>\n",
       "    </tr>\n",
       "  </thead>\n",
       "  <tbody>\n",
       "    <tr>\n",
       "      <th>0</th>\n",
       "      <td>AAT</td>\n",
       "      <td>CTCP Tập Đoàn Tiên Sơn Thanh Hóa</td>\n",
       "      <td>Bán buôn hàng tiêu dùng</td>\n",
       "      <td>HOSE</td>\n",
       "      <td>63801489</td>\n",
       "      <td>Bán buôn</td>\n",
       "    </tr>\n",
       "    <tr>\n",
       "      <th>1</th>\n",
       "      <td>AAV</td>\n",
       "      <td>CTCP AAV Group</td>\n",
       "      <td>Bán buôn hàng tiêu dùng</td>\n",
       "      <td>HNX</td>\n",
       "      <td>68987661</td>\n",
       "      <td>Bán buôn</td>\n",
       "    </tr>\n",
       "    <tr>\n",
       "      <th>2</th>\n",
       "      <td>ABR</td>\n",
       "      <td>CTCP Đầu tư Nhãn hiệu Việt</td>\n",
       "      <td>Bán buôn hàng tiêu dùng</td>\n",
       "      <td>HOSE</td>\n",
       "      <td>20000000</td>\n",
       "      <td>Bán buôn</td>\n",
       "    </tr>\n",
       "    <tr>\n",
       "      <th>3</th>\n",
       "      <td>ABS</td>\n",
       "      <td>CTCP Dịch vụ Nông nghiệp Bình Thuận</td>\n",
       "      <td>Bán buôn hàng tiêu dùng</td>\n",
       "      <td>HOSE</td>\n",
       "      <td>80000000</td>\n",
       "      <td>Bán buôn</td>\n",
       "    </tr>\n",
       "    <tr>\n",
       "      <th>4</th>\n",
       "      <td>AMP</td>\n",
       "      <td>CTCP Armephaco</td>\n",
       "      <td>Bán buôn hàng lâu bền</td>\n",
       "      <td>UpCom</td>\n",
       "      <td>13000000</td>\n",
       "      <td>Bán buôn</td>\n",
       "    </tr>\n",
       "  </tbody>\n",
       "</table>\n",
       "</div>"
      ],
      "text/plain": [
       "  Stock_code                         Name_Company                 Industry  \\\n",
       "0        AAT     CTCP Tập Đoàn Tiên Sơn Thanh Hóa  Bán buôn hàng tiêu dùng   \n",
       "1        AAV                       CTCP AAV Group  Bán buôn hàng tiêu dùng   \n",
       "2        ABR           CTCP Đầu tư Nhãn hiệu Việt  Bán buôn hàng tiêu dùng   \n",
       "3        ABS  CTCP Dịch vụ Nông nghiệp Bình Thuận  Bán buôn hàng tiêu dùng   \n",
       "4        AMP                       CTCP Armephaco    Bán buôn hàng lâu bền   \n",
       "\n",
       "  Exchange  KL_CPNY_(CP)  Majority  \n",
       "0     HOSE      63801489  Bán buôn  \n",
       "1      HNX      68987661  Bán buôn  \n",
       "2     HOSE      20000000  Bán buôn  \n",
       "3     HOSE      80000000  Bán buôn  \n",
       "4    UpCom      13000000  Bán buôn  "
      ]
     },
     "execution_count": 21,
     "metadata": {},
     "output_type": "execute_result"
    }
   ],
   "source": [
    "column = ['Stock_code', 'Name_Company', 'Industry', 'Exchange',\n",
    "       'KL_CPNY_(CP)', 'Majority']\n",
    "df1 = df1[column]\n",
    "df1.head(5)"
   ]
  },
  {
   "cell_type": "code",
   "execution_count": 22,
   "id": "334a14d5",
   "metadata": {},
   "outputs": [],
   "source": [
    "create_table(cur,conn,query_create_table)\n",
    "insert_table(cur,conn,query_insert_table_1,df1)"
   ]
  },
  {
   "cell_type": "code",
   "execution_count": 23,
   "id": "81e57703",
   "metadata": {},
   "outputs": [],
   "source": [
    "df2 = pd.read_csv('D:\\chungkhoan\\Company.csv')\n",
    "insert_table(cur,conn,query_insert_table_2,df2)"
   ]
  },
  {
   "cell_type": "code",
   "execution_count": 24,
   "id": "418bca8c",
   "metadata": {},
   "outputs": [],
   "source": [
    "cur.close()\n",
    "conn.close()"
   ]
  },
  {
   "cell_type": "code",
   "execution_count": null,
   "id": "1a1e8098",
   "metadata": {},
   "outputs": [],
   "source": []
  }
 ],
 "metadata": {
  "kernelspec": {
   "display_name": "Python 3 (ipykernel)",
   "language": "python",
   "name": "python3"
  },
  "language_info": {
   "codemirror_mode": {
    "name": "ipython",
    "version": 3
   },
   "file_extension": ".py",
   "mimetype": "text/x-python",
   "name": "python",
   "nbconvert_exporter": "python",
   "pygments_lexer": "ipython3",
   "version": "3.10.1"
  }
 },
 "nbformat": 4,
 "nbformat_minor": 5
}
